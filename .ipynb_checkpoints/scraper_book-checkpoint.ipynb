{
 "cells": [
  {
   "cell_type": "code",
   "execution_count": 48,
   "metadata": {},
   "outputs": [],
   "source": [
    "import requests\n",
    "from bs4 import BeautifulSoup"
   ]
  },
  {
   "cell_type": "code",
   "execution_count": 49,
   "metadata": {},
   "outputs": [],
   "source": [
    "# function to get soup from url"
   ]
  },
  {
   "cell_type": "code",
   "execution_count": 50,
   "metadata": {},
   "outputs": [
    {
     "name": "stdout",
     "output_type": "stream",
     "text": [
      "https://www.snapdeal.com/acors/json/product/get/search/0/1/100?q=&sort=dhtl&keyword=laptop\n"
     ]
    },
    {
     "data": {
      "text/plain": [
       "'\\n\\n\\n\\n\\n\\n104775\\n\\n\\n\\n\\n\\n\\n      \\n              Showing 2 - 21 out of 104775 items\\n          \\n\\n\\n\\t[{\"name\":\"Relevance\",\"code\":\"rlvncy\"},{\"name\":\"Popularity\",\"code\":\"plrty\"},{\"name\":\"Price Low To High\",\"code\":\"plth\"},{\"name\":\"Price High To Low\",\"code\":\"phtl\"},{\"name\":\"Discount\",\"code\":\"dhtl\"},{\"name\":\"Fresh Arrivals\",\"code\":\"rec\"}]\\n\\n\\n\\n\\n\\n\\n\\n\\n\\n\\n\\n\\n\\n\\n\\n\\n\\n\\n\\n\\n\\n\\t\\t\\t\\t\\tQuick View\\n\\n\\n\\n\\n\\nLenovo Ideapad 330 81G200CAIN (i3 7020U /4 GB RAM/1 TB HDD/ 35.56cm (14 inch)HD /DOS/No ODD) (Onyx Black 2.2 Kg)\\n\\n\\nRs. 39,790\\nRs.  20,999\\n\\n\\n47% Off\\n\\n\\n\\n\\n\\n\\n\\n(27)\\n\\n\\n\\n\\n\\n\\n\\n\\n\\n\\n\\n\\n\\n\\n\\n\\n\\n\\n\\n\\n\\n\\n\\n\\n\\n\\n\\n\\n\\n\\n\\t\\t\\t\\t\\tQuick View\\n\\n\\n\\n\\n\\nLenovo Ideapad 81DE02WCIN Notebook Core i3 (7th Generation) 4 GB 39.62cm(15.6) Windows 10 Home without MS Office Integrated Graphics Grey\\n\\n\\nRs. 43,990\\nRs.  23,499\\n\\n\\n47% Off\\n\\n\\n\\n\\n\\n\\n\\n(5)\\n\\n\\n\\n\\n\\n\\n\\n\\n\\n\\n\\n\\n\\n\\n\\n\\n\\n\\n\\n\\n\\n\\n\\n\\n\\n\\n\\n\\n\\n\\n\\t\\t\\t\\t\\tQuick View\\n\\n\\n\\n\\n\\nLenovo Ideapad 81D60079IN Notebook AMD APU A6 4 GB 39.62cm(15.6) DOS Integrated Graphics Black\\n\\n\\nRs. 26,890\\nRs.  14,999\\n\\n\\n44% Off\\n\\n\\n\\n\\n\\n\\n\\n(38)\\n\\n\\n\\n\\n\\n\\n\\n\\n\\n\\n\\n\\n\\n\\n\\n\\n\\n\\n\\n\\n\\n\\n\\n\\n\\n\\n\\n\\n\\n\\n\\t\\t\\t\\t\\tQuick View\\n\\n\\n\\n\\n\\nAGB Orion ZQ-2501 Notebook Core i7 (7th Generation) 8 GB 35.56cm(14) Windows 10 Pro Integrated Graphics Sliver\\n\\n\\nRs. 1,18,000\\nRs.  65,499\\n\\n\\n44% Off\\n\\n\\n\\n\\n\\n\\n\\n\\n\\n\\n\\n\\n\\n\\n\\n\\n\\n\\n\\n\\n\\n\\n\\n\\n\\n\\n\\n\\n\\n\\n\\n\\n\\n\\n\\n\\t\\t\\t\\t\\tQuick View\\n\\n\\n\\n\\n\\nLenovo Ideapad 81F4008UIN Thin & Light Core i3 (7th Generation) 4 GB 35.56cm(14) Windows 10 Home without MS Office Integrated Graphics Grey\\n\\n\\nRs. 43,990\\nRs.  24,999\\n\\n\\n43% Off\\n\\n\\n\\n\\n\\n\\n\\n(6)\\n\\n\\n\\n\\n\\n\\n\\n\\n\\n\\n\\n\\n\\n\\n\\n\\n\\n\\n\\n\\n\\n\\n\\n\\n\\n\\n\\n\\n\\n\\n\\t\\t\\t\\t\\tQuick View\\n\\n\\n\\n\\n\\nLenovo Ideapad 81H5003GIN Notebook AMD APU A6 4 GB 39.62cm(15.6) DOS Integrated Graphics Black\\n\\n\\nRs. 26,490\\nRs.  15,499\\n\\n\\n41% Off\\n\\n\\n\\n\\n\\n\\n\\n(2)\\n\\n\\n\\n\\n\\n\\n\\n\\n\\n\\n\\n\\n\\n\\n\\n\\n\\n\\n\\n\\n\\n\\n\\n\\n\\n\\n\\n\\n\\n\\n\\t\\t\\t\\t\\tQuick View\\n\\n\\n\\n\\n\\nLenovo Ideapad L340 (i5-8265U/8 GB RAM/1 TB HDD/39.624 cm (15.6 inch)FHD /DOS/ODD) 81LG0094IN (Granite Black 2.2 Kg)\\n\\n\\nRs. 62,190\\nRs.  36,499\\n\\n\\n41% Off\\n\\n\\n\\n\\n\\n\\n\\n(2)\\n\\n\\n\\n\\n\\n\\n\\n\\n\\n\\n\\n\\n\\n\\n\\n\\n\\n\\n\\n\\n\\n\\n\\n\\n\\n\\n\\n\\n\\n\\n\\t\\t\\t\\t\\tQuick View\\n\\n\\n\\n\\n\\nLenovo Ideapad 330 81DE01K0IN Core i5 8th Gen - (8 GB/1 TB HDD/Windows 10 Home/2 GB Graphics) 330-15IKB Laptop (15.6 inch, Onyx Black, 2.2 kg)\\n\\n\\nRs. 72,690\\nRs.  42,499\\n\\n\\n42% Off\\n\\n\\n\\n\\n\\n\\n\\n(1)\\n\\n\\n\\n\\n\\n\\n\\n\\n\\n\\n\\n\\n\\n\\n\\n\\n\\n\\n\\n\\n\\n\\n\\n\\n\\n\\n\\n\\n\\n\\n\\n\\n\\n\\n\\t\\t\\t\\t\\tQuick View\\n\\n\\n\\n\\n\\nAGB Orion ZQ 0812 Notebook Core i7 (7th Generation) 8 GB 35.56cm(14) Windows 10 Pro Integrated Graphics Sliver\\n\\n\\nRs. 1,10,000\\nRs.  64,499\\n\\n\\n41% Off\\n\\n\\n\\n\\n\\n\\n\\n\\n\\n\\n\\n\\n\\n\\n\\n\\n\\n\\n\\n\\n\\n\\n\\n\\n\\n\\n\\n\\n\\n\\n\\n\\t\\t\\t\\t\\tQuick View\\n\\n\\n\\n\\n\\nAGB Tiara 1210-V Notebook Core i7 (7th Generation) 8 GB 39.62cm(15.6) Windows 10 Pro 4 GB Silver\\n\\n\\nRs. 1,20,000\\nRs.  69,999\\n\\n\\n42% Off\\n\\n\\n\\n\\n\\n\\n\\n\\n\\n\\n\\n\\n\\n\\n\\n\\n\\n\\n\\n\\n\\n\\n\\n\\n\\n\\n\\n\\n\\n\\n\\n\\t\\t\\t\\t\\tQuick View\\n\\n\\n\\n\\n\\nLenovo Ideapad 81F40196IN Thin & Light Core i3 (8th Generation) 4 GB 35.56cm(14) Windows 10 Home without MS Office Integrated Graphics Grey\\n\\n\\nRs. 53,890\\nRs.  31,999\\n\\n\\n41% Off\\n\\n\\n\\n\\n\\n\\n\\n(7)\\n\\n\\n\\n\\n\\n\\n\\n\\n\\n\\n\\n\\n\\n\\n\\n\\n\\n\\n\\n\\n\\n\\n\\n\\n\\n\\n\\n\\n\\n\\n\\t\\t\\t\\t\\tQuick View\\n\\n\\n\\n\\n\\nLenovo 14 V145-A4 Notebook AMD APU A4 4 GB 39.62cm(15.6) DOS 2 GB black\\n\\n\\nRs. 27,999\\nRs.  16,999\\n\\n\\n39% Off\\n\\n\\n\\n\\n\\n\\n\\n(1)\\n\\n\\n\\n\\n\\n\\n\\n\\n\\n\\n\\n\\n\\n\\n\\n\\n\\n\\n\\n\\n\\n\\n\\n\\n\\n\\n\\n\\n\\n\\n\\n\\n\\n\\n\\t\\t\\t\\t\\tQuick View\\n\\n\\n\\n\\n\\nLenovo Notebook 81MT001BIH Notebook AMD APU A4 4 GB 39.62cm(15.6) DOS Not Applicable BLACK\\n\\n\\nRs. 27,999\\nRs.  16,999\\n\\n\\n39% Off\\n\\n\\n\\n\\n\\n\\n\\n(5)\\n\\n\\n\\n\\n\\n\\n\\n\\n\\n\\n\\n\\n\\n\\n\\n\\n\\n\\n\\n\\n\\n\\n\\n\\n\\n\\n\\n\\n\\n\\n\\t\\t\\t\\t\\tQuick View\\n\\n\\n\\n\\n\\nLenovo Ideapad 330s (i3 7020U /4 GB RAM/1 TB HDD/ (14 inch)FHD /Win 10/MS Office /No ODD) 81F401LBIN (Platinum Grey 1.67 Kg)\\n\\n\\nRs. 48,190\\nRs.  29,499\\n\\n\\n39% Off\\n\\n\\n\\n\\n\\n\\n\\n\\n\\n\\n\\n\\n\\n\\n\\n\\n\\n\\n\\n\\n\\n\\n\\n\\n\\n\\n\\n\\n\\n\\n\\n\\t\\t\\t\\t\\tQuick View\\n\\n\\n\\n\\n\\nLenovo IP 330 81D600BWIN (AMD E2 9000 /4GB DDR4/500GB/DOS/15.6\"HD/NO ODD/Integrated Graphics/Black)\\n\\n\\nRs. 23,890\\nRs.  14,999\\n\\n\\n37% Off\\n\\n\\n\\n\\n\\n\\n\\n(21)\\n\\n\\n\\n\\n\\n\\n\\n\\n\\n\\n\\n\\n\\n\\n\\n\\n\\n\\n\\n\\n\\n\\n\\n\\n\\n\\n\\n\\n\\n\\n\\t\\t\\t\\t\\tQuick View\\n\\n\\n\\n\\n\\nLenovo Notebook 81MT0034IH Netbook AMD APU A6 4 GB 39.62cm(15.6) DOS Not Applicable BLACK\\n\\n\\nRs. 27,000\\nRs.  16,999\\n\\n\\n37% Off\\n\\n\\n\\n\\n\\n\\n\\n\\n\\n\\n\\n\\n\\n\\n\\n\\n\\n\\n\\n\\n\\n\\n\\n\\n\\n\\n\\n\\n\\n\\n\\n\\n\\n\\n\\n\\t\\t\\t\\t\\tQuick View\\n\\n\\n\\n\\n\\nLenovo Ideapad L340 (i5-8265U/8 GB RAM/1 TB HDD/2GB Nvidia MX110/ 39.624 cm (15.6 inch)HD /Win 10/No ODD) 81LG0097IN (Platinum Grey 2.2 Kg)\\n\\n\\nRs. 68,490\\nRs.  42,990\\n\\n\\n37% Off\\n\\n\\n\\n\\n\\n\\n\\n\\n\\n\\n\\n\\n\\n\\n\\n\\n\\n\\n\\n\\n\\n\\n\\n\\n\\n\\n\\n\\n\\n\\n\\n\\t\\t\\t\\t\\tQuick View\\n\\n\\n\\n\\n\\nAcer Aspire 5 (NX.GVLSI.001) (Core i5 7th Gen / 8GB RAM / 1TB HDD / Windows 10 / 2GB Graphics), 15.6\" Laptop\\n\\n\\nRs. 59,999\\nRs.  37,999\\n\\n\\n37% Off\\n\\n\\n\\n\\n\\n\\n\\n\\n\\n\\n\\n\\n\\n\\n\\n\\n\\n\\n\\n\\n\\n\\n\\n\\n\\n\\n\\n\\n\\n\\n\\n\\t\\t\\t\\t\\tQuick View\\n\\n\\n\\n\\n\\nLenovo Ideapad 130 (i5-8265U /8 GB RAM/1 TB HDD/2 GB Nvidia MX110 /39.624 cm (15.6 inch)HD /DOS/No ODD) 81H7002BIN (Black 2.2 Kg)\\n\\n\\nRs. 61,490\\nRs.  39,490\\n\\n\\n36% Off\\n\\n\\n\\n\\n\\n\\n\\n\\n\\n\\n\\n\\n\\n\\n\\n\\n\\n\\n\\n\\n\\n\\n\\n\\n\\n\\n\\n\\n\\n\\n\\n\\t\\t\\t\\t\\tQuick View\\n\\n\\n\\n\\n\\nAcer Swift 3 Thin & Light (NX.GZASI.001) (Core i5 8th Gen / 8GB RAM / 1TB HDD + 128GB SSD / Windows 10 / 2GB Graphics), 15.6\" Laptop\\n\\n\\nRs. 84,999\\nRs.  54,999\\n\\n\\n35% Off\\n\\n\\n\\n\\n\\n\\n\\n\\n\\n\\n\\n\\n\\n\\n\\n\\n\\n\\n\\n\\n\\n\\n\\n\\n\\n\\n\\n\\n\\n\\n\\n    var searchEventIdObj = document.getElementById(\\'searchEventId\\');\\n    if(!!searchEventIdObj){\\n        searchEventIdObj.parentNode.removeChild(searchEventIdObj);\\n    }\\n\\n\\n'"
      ]
     },
     "execution_count": 50,
     "metadata": {},
     "output_type": "execute_result"
    }
   ],
   "source": [
    "start=1\n",
    "resultsize =100\n",
    "search = \"laptop\"\n",
    "url=f\"https://www.snapdeal.com/acors/json/product/get/search/0/{start}/{resultsize}?q=&sort=dhtl&keyword={search}\"\n",
    "page = requests.get(url)\n",
    "print(page.url)\n",
    "soup = BeautifulSoup(page.text,'lxml')\n",
    "soup.body.text"
   ]
  },
  {
   "cell_type": "code",
   "execution_count": 77,
   "metadata": {},
   "outputs": [],
   "source": [
    "def get_page (url):\n",
    "    try:\n",
    "        page = requests.get(url)\n",
    "        if page.status_code==200:\n",
    "            soup = BeautifulSoup(page.text,\"lxml\")\n",
    "            return soup\n",
    "        else:\n",
    "            print(\"error finding page\",e)\n",
    "    except Exception as e:\n",
    "        print(\"error->\",e)"
   ]
  },
  {
   "cell_type": "code",
   "execution_count": 83,
   "metadata": {},
   "outputs": [],
   "source": [
    "def search_snapdeal(search_term='mobile',start_pos=0):\n",
    "    url=f\"https://www.snapdeal.com/acors/json/product/get/search/1/{start_pos}/20?q=&sort=dhtl&brandPageUrl=&keyword={search_term}&k3=true|k5=0|k6=0|k8=0&pincode=&vc=&webpageName=searchResult&campaignId=&brandName=&isMC=false&clickSrc=unknown&showAds=true&cartId=&page=srp\"\n",
    "    soup=get_page(url)\n",
    "    if soup:\n",
    "        print(\"download page\")\n",
    "        return soup\n",
    "    else:\n",
    "        print(\"what is happening here\")    "
   ]
  },
  {
   "cell_type": "code",
   "execution_count": 84,
   "metadata": {},
   "outputs": [
    {
     "name": "stdout",
     "output_type": "stream",
     "text": [
      "download page\n"
     ]
    }
   ],
   "source": [
    "soup = search_snapdeal()"
   ]
  },
  {
   "cell_type": "code",
   "execution_count": 85,
   "metadata": {},
   "outputs": [],
   "source": [
    "soup.find('span',{'id':'pagination-total-count'})"
   ]
  },
  {
   "cell_type": "code",
   "execution_count": 59,
   "metadata": {},
   "outputs": [],
   "source": [
    "container=soup.find('section', attrs={'class':'products'})"
   ]
  },
  {
   "cell_type": "code",
   "execution_count": null,
   "metadata": {},
   "outputs": [],
   "source": []
  },
  {
   "cell_type": "code",
   "execution_count": 65,
   "metadata": {},
   "outputs": [
    {
     "ename": "AttributeError",
     "evalue": "'NoneType' object has no attribute 'find_all'",
     "output_type": "error",
     "traceback": [
      "\u001b[1;31m---------------------------------------------------------------------------\u001b[0m",
      "\u001b[1;31mAttributeError\u001b[0m                            Traceback (most recent call last)",
      "\u001b[1;32m<ipython-input-65-3a27c42284dc>\u001b[0m in \u001b[0;36m<module>\u001b[1;34m()\u001b[0m\n\u001b[1;32m----> 1\u001b[1;33m \u001b[0mproducts\u001b[0m \u001b[1;33m=\u001b[0m \u001b[0mcontainer\u001b[0m\u001b[1;33m.\u001b[0m\u001b[0mfind_all\u001b[0m\u001b[1;33m(\u001b[0m\u001b[1;34m'laptop'\u001b[0m\u001b[1;33m)\u001b[0m\u001b[1;33m\u001b[0m\u001b[0m\n\u001b[0m\u001b[0;32m      2\u001b[0m \u001b[0mprint\u001b[0m\u001b[1;33m(\u001b[0m\u001b[1;34m'found'\u001b[0m\u001b[1;33m,\u001b[0m \u001b[0mlen\u001b[0m\u001b[1;33m(\u001b[0m\u001b[0mproducts\u001b[0m\u001b[1;33m)\u001b[0m\u001b[1;33m,\u001b[0m \u001b[1;34m'products'\u001b[0m\u001b[1;33m)\u001b[0m\u001b[1;33m\u001b[0m\u001b[0m\n",
      "\u001b[1;31mAttributeError\u001b[0m: 'NoneType' object has no attribute 'find_all'"
     ]
    }
   ],
   "source": [
    "products = container.find_all('laptop')\n",
    "print('found', len(products), 'products')"
   ]
  },
  {
   "cell_type": "code",
   "execution_count": null,
   "metadata": {},
   "outputs": [],
   "source": []
  }
 ],
 "metadata": {
  "kernelspec": {
   "display_name": "Python 3",
   "language": "python",
   "name": "python3"
  },
  "language_info": {
   "codemirror_mode": {
    "name": "ipython",
    "version": 3
   },
   "file_extension": ".py",
   "mimetype": "text/x-python",
   "name": "python",
   "nbconvert_exporter": "python",
   "pygments_lexer": "ipython3",
   "version": "3.7.0"
  }
 },
 "nbformat": 4,
 "nbformat_minor": 2
}
